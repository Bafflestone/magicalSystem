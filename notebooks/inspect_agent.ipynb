{
 "cells": [
  {
   "cell_type": "markdown",
   "id": "96d1bd56",
   "metadata": {},
   "source": [
    "Notebook to visualize agent graph"
   ]
  },
  {
   "cell_type": "code",
   "execution_count": null,
   "id": "4b8e9860",
   "metadata": {},
   "outputs": [],
   "source": [
    "from IPython.display import Image\n",
    "import os\n"
   ]
  },
  {
   "cell_type": "code",
   "execution_count": null,
   "id": "f608174b",
   "metadata": {},
   "outputs": [],
   "source": [
    "# Change current working directory to the parent directory\n",
    "parent_dir = os.path.dirname(os.getcwd())\n",
    "os.chdir(parent_dir)\n",
    "\n",
    "# print working directory\n",
    "print(\"Current working directory:\", os.getcwd())"
   ]
  },
  {
   "cell_type": "code",
   "execution_count": null,
   "id": "480b9c4b",
   "metadata": {},
   "outputs": [],
   "source": [
    "# Import the agent\n",
    "from agent_dnd_converter import dnd_converter"
   ]
  },
  {
   "cell_type": "code",
   "execution_count": null,
   "id": "7cae3731",
   "metadata": {},
   "outputs": [],
   "source": [
    "# Visualize the graph\n",
    "Image(dnd_converter().graph.get_graph().draw_png())"
   ]
  },
  {
   "cell_type": "code",
   "execution_count": null,
   "id": "85a6e4c7",
   "metadata": {},
   "outputs": [],
   "source": []
  }
 ],
 "metadata": {
  "kernelspec": {
   "display_name": ".venv",
   "language": "python",
   "name": "python3"
  },
  "language_info": {
   "codemirror_mode": {
    "name": "ipython",
    "version": 3
   },
   "file_extension": ".py",
   "mimetype": "text/x-python",
   "name": "python",
   "nbconvert_exporter": "python",
   "pygments_lexer": "ipython3",
   "version": "3.13.1"
  }
 },
 "nbformat": 4,
 "nbformat_minor": 5
}
